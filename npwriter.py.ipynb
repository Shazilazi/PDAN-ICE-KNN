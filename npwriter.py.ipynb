{
 "cells": [
  {
   "cell_type": "code",
   "execution_count": null,
   "id": "e2df58f3",
   "metadata": {},
   "outputs": [],
   "source": [
    "import pandas as pd\n",
    "import numpy as np\n",
    "import os.path\n",
    "f_name = \"face_data.csv\""
   ]
  },
  {
   "cell_type": "code",
   "execution_count": null,
   "id": "bff72bbb",
   "metadata": {},
   "outputs": [],
   "source": [
    "# storing the data into a csv file\n",
    "def write(name, data):\n",
    "if os.path.isfile(f_name):\n",
    "df = pd.read_csv(f_name, index_col = 0)\n",
    "latest = pd.DataFrame(data, columns = map(str, range(10000)))\n",
    "latest[\"name\"] = name\n",
    "df = pd.concat((df, latest), ignore_index = True, sort = False)\n",
    "else:\n",
    "# Providing range only because the data\n",
    "# here is already flattened for when\n",
    "# it was store in f_list\n",
    "df = pd.DataFrame(data, columns = map(str, range(10000)))\n",
    "df[\"name\"] = name\n",
    "df.to_csv(f_name)"
   ]
  }
 ],
 "metadata": {
  "kernelspec": {
   "display_name": "Python 3 (ipykernel)",
   "language": "python",
   "name": "python3"
  },
  "language_info": {
   "codemirror_mode": {
    "name": "ipython",
    "version": 3
   },
   "file_extension": ".py",
   "mimetype": "text/x-python",
   "name": "python",
   "nbconvert_exporter": "python",
   "pygments_lexer": "ipython3",
   "version": "3.9.12"
  }
 },
 "nbformat": 4,
 "nbformat_minor": 5
}
