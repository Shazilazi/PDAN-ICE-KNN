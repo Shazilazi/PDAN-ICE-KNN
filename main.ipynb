{
 "cells": [
  {
   "cell_type": "code",
   "execution_count": 2,
   "id": "eb50c6c3",
   "metadata": {},
   "outputs": [
    {
     "ename": "ModuleNotFoundError",
     "evalue": "No module named 'face_detection'",
     "output_type": "error",
     "traceback": [
      "\u001b[1;31m---------------------------------------------------------------------------\u001b[0m",
      "\u001b[1;31mModuleNotFoundError\u001b[0m                       Traceback (most recent call last)",
      "Input \u001b[1;32mIn [2]\u001b[0m, in \u001b[0;36m<cell line: 2>\u001b[1;34m()\u001b[0m\n\u001b[0;32m      1\u001b[0m \u001b[38;5;66;03m# main.py\u001b[39;00m\n\u001b[1;32m----> 2\u001b[0m \u001b[38;5;28;01mfrom\u001b[39;00m \u001b[38;5;21;01mface_detection\u001b[39;00m \u001b[38;5;28;01mimport\u001b[39;00m detect_and_collect_faces\n\u001b[0;32m      3\u001b[0m \u001b[38;5;28;01mfrom\u001b[39;00m \u001b[38;5;21;01mface_recognition\u001b[39;00m \u001b[38;5;28;01mimport\u001b[39;00m train_knn, recognize_faces\n",
      "\u001b[1;31mModuleNotFoundError\u001b[0m: No module named 'face_detection'"
     ]
    }
   ],
   "source": [
    "# main.py\n",
    "from face_detection import detect_and_collect_faces\n",
    "from face_recognition import train_knn, recognize_faces"
   ]
  },
  {
   "cell_type": "code",
   "execution_count": null,
   "id": "b2f41b7d",
   "metadata": {},
   "outputs": [],
   "source": [
    "def main():\n",
    "    choice = input(\"Enter 'c' to collect data or 'r' to recognize faces: \")\n",
    "    if choice == 'c':\n",
    "        name = input(\"Enter your name: \")\n",
    "        detect_and_collect_faces(name)\n",
    "    elif choice == 'r':\n",
    "        knn_model = train_knn()\n",
    "        recognize_faces(knn_model)\n",
    "    else:\n",
    "        print(\"Invalid choice. Please enter 'c' or 'r'.\")\n",
    "\n",
    "if __name__ == \"__main__\":\n",
    "    main()"
   ]
  }
 ],
 "metadata": {
  "kernelspec": {
   "display_name": "Python 3 (ipykernel)",
   "language": "python",
   "name": "python3"
  },
  "language_info": {
   "codemirror_mode": {
    "name": "ipython",
    "version": 3
   },
   "file_extension": ".py",
   "mimetype": "text/x-python",
   "name": "python",
   "nbconvert_exporter": "python",
   "pygments_lexer": "ipython3",
   "version": "3.9.12"
  }
 },
 "nbformat": 4,
 "nbformat_minor": 5
}
