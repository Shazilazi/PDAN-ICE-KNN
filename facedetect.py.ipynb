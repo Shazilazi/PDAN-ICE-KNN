{
 "cells": [
  {
   "cell_type": "code",
   "execution_count": null,
   "id": "73c6bb0d",
   "metadata": {},
   "outputs": [],
   "source": [
    "# this file is used to detect face\n",
    "# and then store the data of the face\n",
    "import cv2\n",
    "import numpy as np"
   ]
  },
  {
   "cell_type": "code",
   "execution_count": null,
   "id": "5b10aeae",
   "metadata": {},
   "outputs": [],
   "source": [
    "# import the file where data is\n",
    "# stored in a csv file format\n",
    "import npwriter\n",
    "name = input(\"Enter your name: \")"
   ]
  },
  {
   "cell_type": "code",
   "execution_count": null,
   "id": "f66e84fa",
   "metadata": {},
   "outputs": [],
   "source": [
    "# this is used to access the web-cam\n",
    "# in order to capture frames\n",
    "cap = cv2.VideoCapture(0)"
   ]
  },
  {
   "cell_type": "code",
   "execution_count": null,
   "id": "55f719fe",
   "metadata": {},
   "outputs": [],
   "source": [
    "classifier =\n",
    "cv2.CascadeClassifier(\"haarcascade_frontalface_default.xml\")"
   ]
  },
  {
   "cell_type": "code",
   "execution_count": null,
   "id": "94390ab4",
   "metadata": {},
   "outputs": [],
   "source": [
    "# this is class used to detect the faces as provided\n",
    "# with a haarcascade_frontalface_default.xml file as data\n",
    "f_list = []\n",
    "while True:\n",
    "ret, frame = cap.read()"
   ]
  },
  {
   "cell_type": "code",
   "execution_count": null,
   "id": "3783a954",
   "metadata": {},
   "outputs": [],
   "source": [
    "# converting the image into gray\n",
    "# scale as it is easy for detection\n",
    "gray = cv2.cvtColor(frame, cv2.COLOR_BGR2GRAY)"
   ]
  },
  {
   "cell_type": "code",
   "execution_count": null,
   "id": "9627f020",
   "metadata": {},
   "outputs": [],
   "source": [
    "# detect multiscale, detects the face and its coordinates\n",
    "faces = classifier.detectMultiScale(gray, 1.5, 5)"
   ]
  },
  {
   "cell_type": "code",
   "execution_count": null,
   "id": "7fa25604",
   "metadata": {},
   "outputs": [],
   "source": [
    "# this is used to detect the face which\n",
    "# is closest to the web-cam on the first position\n",
    "faces = sorted(faces, key = lambda x: x[2]*x[3],\n",
    "reverse = True)"
   ]
  },
  {
   "cell_type": "code",
   "execution_count": null,
   "id": "b7e89768",
   "metadata": {},
   "outputs": [],
   "source": [
    "# only the first detected face is used\n",
    "faces = faces[:1]"
   ]
  },
  {
   "cell_type": "code",
   "execution_count": null,
   "id": "034fe4cb",
   "metadata": {},
   "outputs": [],
   "source": [
    "# len(faces) is the number of\n",
    "# faces showing in a frame\n",
    "if len(faces) == 1:\n",
    "# this is removing from tuple format\n",
    "face = faces[0]\n",
    "# storing the coordinates of the\n",
    "# face in different variables\n",
    "x, y, w, h = face\n",
    "# this is will show the face\n",
    "# that is being detected\n",
    "im_face = frame[y:y + h, x:x + w]\n",
    "cv2.imshow(\"face\", im_face)\n",
    "if not ret:\n",
    "continue\n",
    "cv2.imshow(\"full\", frame)\n",
    "key = cv2.waitKey(1)"
   ]
  },
  {
   "cell_type": "code",
   "execution_count": null,
   "id": "e7898cc5",
   "metadata": {},
   "outputs": [],
   "source": [
    "# this will break the execution of the program\n",
    "# on pressing 'q' and will click the frame on pressing 'c'\n",
    "if key & 0xFF == ord('q'):\n",
    "break\n",
    "elif key & 0xFF == ord('c'):\n",
    "if len(faces) == 1:\n",
    "gray_face = cv2.cvtColor(im_face, cv2.COLOR_BGR2GRAY)\n",
    "gray_face = cv2.resize(gray_face, (100, 100))\n",
    "print(len(f_list), type(gray_face), gray_face.shape)"
   ]
  },
  {
   "cell_type": "code",
   "execution_count": null,
   "id": "16081444",
   "metadata": {},
   "outputs": [],
   "source": [
    "# this will append the face's coordinates in f_list\n",
    "f_list.append(gray_face.reshape(-1))\n",
    "else:\n",
    "print(\"face not found\")"
   ]
  },
  {
   "cell_type": "code",
   "execution_count": null,
   "id": "dafc7370",
   "metadata": {},
   "outputs": [],
   "source": [
    "# this will store the data for detected\n",
    "# face 10 times in order to increase accuracy\n",
    "if len(f_list) == 10:\n",
    "break"
   ]
  },
  {
   "cell_type": "code",
   "execution_count": null,
   "id": "727c4e2e",
   "metadata": {},
   "outputs": [],
   "source": [
    "# declared in npwriter\n",
    "npwriter.write(name, np.array(f_list))"
   ]
  },
  {
   "cell_type": "code",
   "execution_count": null,
   "id": "3c4a31d1",
   "metadata": {},
   "outputs": [],
   "source": [
    "cap.release()\n",
    "cv2.destroyAllWindows()"
   ]
  }
 ],
 "metadata": {
  "kernelspec": {
   "display_name": "Python 3 (ipykernel)",
   "language": "python",
   "name": "python3"
  },
  "language_info": {
   "codemirror_mode": {
    "name": "ipython",
    "version": 3
   },
   "file_extension": ".py",
   "mimetype": "text/x-python",
   "name": "python",
   "nbconvert_exporter": "python",
   "pygments_lexer": "ipython3",
   "version": "3.9.12"
  }
 },
 "nbformat": 4,
 "nbformat_minor": 5
}
