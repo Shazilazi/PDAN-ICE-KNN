{
 "cells": [
  {
   "cell_type": "code",
   "execution_count": null,
   "id": "873fe391",
   "metadata": {},
   "outputs": [],
   "source": [
    "# this one is used to recognize the\n",
    "# face after training the model with\n",
    "# our data stored using knn\n",
    "import cv2\n",
    "import numpy as np\n",
    "import pandas as pd\n",
    "import operator\n",
    "from operator import itemgetter\n",
    "from npwriter import f_name"
   ]
  },
  {
   "cell_type": "code",
   "execution_count": null,
   "id": "e2b06141",
   "metadata": {},
   "outputs": [],
   "source": [
    "def euc_dist(x1, x2):\n",
    "return np.sqrt(np.sum((x1-x2)**2))"
   ]
  },
  {
   "cell_type": "code",
   "execution_count": null,
   "id": "8bcb1126",
   "metadata": {},
   "outputs": [],
   "source": [
    "class KNN:\n",
    "def __init__(self, K=3):\n",
    "self.K = K\n",
    "def fit(self, x_train, y_train):\n",
    "self.X_train = x_train\n",
    "self.Y_train = y_train\n",
    "def predict(self, X_test):\n",
    "predictions = []\n",
    "for i in range(len(X_test)):\n",
    "dist = np.array([euc_dist(X_test[i], x_t) for x_t in\n",
    "self.X_train])\n",
    "dist_sorted = dist.argsort()[:self.K]\n",
    "neigh_count = {}\n",
    "for idx in dist_sorted:\n",
    "if self.Y_train[idx] in neigh_count:\n",
    "    neigh_count[self.Y_train[idx]] += 1\n",
    "else:\n",
    "neigh_count[self.Y_train[idx]] = 1\n",
    "sorted_neigh_count = sorted(neigh_count.items(),\n",
    "key=operator.itemgetter(1), reverse=True)\n",
    "predictions.append(sorted_neigh_count[0][0])\n",
    "return predictions"
   ]
  },
  {
   "cell_type": "code",
   "execution_count": null,
   "id": "607bbe8c",
   "metadata": {},
   "outputs": [],
   "source": [
    "# reading the data\n",
    "data = pd.read_csv(f_name).values"
   ]
  },
  {
   "cell_type": "code",
   "execution_count": null,
   "id": "193af1be",
   "metadata": {},
   "outputs": [],
   "source": [
    "# data partition\n",
    "X, Y = data[:, 1:-1], data[:, -1]\n",
    "print(X, Y)"
   ]
  },
  {
   "cell_type": "code",
   "execution_count": null,
   "id": "697b705e",
   "metadata": {},
   "outputs": [],
   "source": [
    "# Knn function calling with k = 5\n",
    "model = KNN(K = 5)"
   ]
  },
  {
   "cell_type": "code",
   "execution_count": null,
   "id": "1902eac6",
   "metadata": {},
   "outputs": [],
   "source": [
    "# fdtraining of model\n",
    "model.fit(X, Y)\n",
    "cap = cv2.VideoCapture(0)"
   ]
  },
  {
   "cell_type": "code",
   "execution_count": null,
   "id": "c478a3be",
   "metadata": {},
   "outputs": [],
   "source": [
    "classifier =\n",
    "cv2.CascadeClassifier(\"haarcascade_frontalface_default.xml\")\n",
    "f_list = []"
   ]
  },
  {
   "cell_type": "code",
   "execution_count": null,
   "id": "0fec5d9b",
   "metadata": {},
   "outputs": [],
   "source": [
    "while True:\n",
    "ret, frame = cap.read()\n",
    "gray = cv2.cvtColor(frame, cv2.COLOR_BGR2GRAY)\n",
    "faces = classifier.detectMultiScale(gray, 1.5, 5)\n",
    "X_test = []"
   ]
  },
  {
   "cell_type": "code",
   "execution_count": null,
   "id": "2f33d280",
   "metadata": {},
   "outputs": [],
   "source": [
    "# Testing data\n",
    "for face in faces:\n",
    "x, y, w, h = face\n",
    "im_face = gray[y:y + h, x:x + w]\n",
    "im_face = cv2.resize(im_face, (100, 100))\n",
    "X_test.append(im_face.reshape(-1))\n",
    "if len(faces)>0:\n",
    "response = model.predict(np.array(X_test))\n",
    "# prediction of result using knn\n",
    "for i, face in enumerate(faces):\n",
    "x, y, w, h = face\n",
    "# drawing a rectangle on the detected face\n",
    "cv2.rectangle(frame, (x, y), (x + w, y + h),\n",
    "(255, 0, 0), 3)\n",
    "# adding detected/predicted name for the face\n",
    "cv2.putText(frame, response[i], (x-50, y-50),\n",
    "cv2.FONT_HERSHEY_DUPLEX, 2,\n",
    "(0, 255, 0), 3)\n",
    "cv2.imshow(\"full\", frame)\n",
    "key = cv2.waitKey(1)\n",
    "if key & 0xFF == ord(\"q\") :\n",
    "break\n",
    "cap.release()\n",
    "cv2.destroyAllWindows()"
   ]
  }
 ],
 "metadata": {
  "kernelspec": {
   "display_name": "Python 3 (ipykernel)",
   "language": "python",
   "name": "python3"
  },
  "language_info": {
   "codemirror_mode": {
    "name": "ipython",
    "version": 3
   },
   "file_extension": ".py",
   "mimetype": "text/x-python",
   "name": "python",
   "nbconvert_exporter": "python",
   "pygments_lexer": "ipython3",
   "version": "3.9.12"
  }
 },
 "nbformat": 4,
 "nbformat_minor": 5
}
